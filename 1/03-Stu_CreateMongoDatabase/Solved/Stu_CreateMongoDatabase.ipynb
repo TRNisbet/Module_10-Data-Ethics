{
 "cells": [
  {
   "cell_type": "markdown",
   "id": "91e484ca-75ad-4fc5-a2df-5b6f8952fc3d",
   "metadata": {},
   "source": [
    "# Create a Mongo Database"
   ]
  },
  {
   "cell_type": "markdown",
   "id": "bf35709b-36ce-420f-bbf6-978e2413b81d",
   "metadata": {},
   "source": [
    "In this activity, you'll start by importing the contents of a JSON file into a Mongo database collection by using the Mongo CLI.\n",
    "\n",
    "1. Start Mongo by running `mongod` for Windows, or `brew services start mongodb/brew/mongodb-community` for Mac.\n",
    "2. In the terminal, use `cd` to navigate to the resources folder that contains the file named customer_list.json.\n",
    "3. Use the following command to import this file to a Mongo database:\n",
    "\n",
    "```\n",
    "mongoimport --type json -d petsitly_marketing -c customer_list --drop --jsonArray customer_list.json\n",
    "```\n",
    "\n",
    "This command tells Mongo that it needs to:\n",
    "\n",
    "* import a json file (`--type json`)\n",
    "* to a database called \"petsitly_marketing\" (`-d petsitly_marketing`) \n",
    "* in a collection called \"customer_list\" (`-c customer_list`)\n",
    "* treat the input source as a json array (`--array`)\n",
    "* removing the existing \"customer_list\" collection (`--drop`), if it exists, before adding the new documents from the json file.\n",
    "\n",
    "Now that we have imported our data, let's use pymongo to explore it."
   ]
  },
  {
   "cell_type": "code",
   "execution_count": 1,
   "id": "f2f2d6cb-8679-4232-836d-d33c587fa44a",
   "metadata": {},
   "outputs": [],
   "source": [
    "from pymongo import MongoClient"
   ]
  },
  {
   "cell_type": "markdown",
   "id": "9d563ec3-7151-465e-b694-7dbb9b89958f",
   "metadata": {},
   "source": [
    "4. Create an instance of MongoClient, using the port number 27017."
   ]
  },
  {
   "cell_type": "code",
   "execution_count": 2,
   "id": "686fb4fc-7b44-4801-9fbd-120a12a909f6",
   "metadata": {},
   "outputs": [],
   "source": [
    "# Create an instance of MongoClient\n",
    "mongo = MongoClient(port=27017)"
   ]
  },
  {
   "cell_type": "markdown",
   "id": "91ffdc44-f7bf-4f22-ad09-e75e3eb3aa32",
   "metadata": {},
   "source": [
    "5. List the names of the database in order to confirm that the petsitly_marketing database was created. "
   ]
  },
  {
   "cell_type": "code",
   "execution_count": 3,
   "id": "b25dd0e2-9c00-4983-9421-c1ba20d54a9d",
   "metadata": {},
   "outputs": [
    {
     "name": "stdout",
     "output_type": "stream",
     "text": [
      "['admin', 'config', 'local', 'petsitly_marketing']\n"
     ]
    }
   ],
   "source": [
    "# confirm that our new database was created\n",
    "print(mongo.list_database_names())"
   ]
  },
  {
   "cell_type": "markdown",
   "id": "4fc9494a-8ae5-422f-938c-09837ac79fef",
   "metadata": {},
   "source": [
    "6. Assign the petsitly_marketing database to a variable name"
   ]
  },
  {
   "cell_type": "code",
   "execution_count": 4,
   "id": "c952301c-b6c7-4f13-8950-9857f7f196e2",
   "metadata": {},
   "outputs": [],
   "source": [
    "# assign the petsitly_marketing database to a variable name\n",
    "db = mongo['petsitly_marketing']"
   ]
  },
  {
   "cell_type": "markdown",
   "id": "22903575-a862-44dc-90b1-8a1454039307",
   "metadata": {},
   "source": [
    "7. List the names of the collections in the database. \n",
    "\n",
    "> Hint: Be sure to use the variable name you assigned to your database to do this."
   ]
  },
  {
   "cell_type": "code",
   "execution_count": 5,
   "id": "8169fbe9-3446-4830-846a-4c1aca23b61a",
   "metadata": {},
   "outputs": [
    {
     "name": "stdout",
     "output_type": "stream",
     "text": [
      "['customer_list']\n"
     ]
    }
   ],
   "source": [
    "# review the collections in our new database\n",
    "print(db.list_collection_names())"
   ]
  },
  {
   "cell_type": "markdown",
   "id": "2e73113f-3d7d-4a71-ad8d-4bcf1eb0fe90",
   "metadata": {},
   "source": [
    "8. Use the `find_one` function to look at a document within the `customer_list` collection of your database."
   ]
  },
  {
   "cell_type": "code",
   "execution_count": 6,
   "id": "eb0ed1c1-653e-482f-b68e-95ee3bb27fc1",
   "metadata": {},
   "outputs": [
    {
     "name": "stdout",
     "output_type": "stream",
     "text": [
      "{'_id': ObjectId('61bba08adfdd4a81f41e3008'), 'Customer_First': 'Malvin', 'Customer_Last': 'Keeling', 'Address': '5221 Christopher Landing Suite 898', 'Email': 'udavis@hotmail.com', '2021_Visits': 95, '2021_Total_Spend': 1638.75, 'Pet_Type': 'fish'}\n"
     ]
    }
   ],
   "source": [
    "# review a document in the customer_list collection\n",
    "print(db.customer_list.find_one())"
   ]
  },
  {
   "cell_type": "markdown",
   "id": "f0e0d5ad-faf5-4886-9846-ab83385e9155",
   "metadata": {},
   "source": [
    "9. Assign the `customer_list` collection to a variable of your choice."
   ]
  },
  {
   "cell_type": "code",
   "execution_count": 7,
   "id": "91e2bbd9-5d10-46e9-beed-8f189aee4383",
   "metadata": {},
   "outputs": [],
   "source": [
    "# assign the collection to a variable\n",
    "customer_list = db['customer_list']"
   ]
  },
  {
   "cell_type": "markdown",
   "id": "a3c02e58-d9b8-4596-9c9b-0538cdc55706",
   "metadata": {},
   "source": [
    "10. Use the `insert_one` function to insert the new customer into the database, then run the query in the following cell to look at this customer."
   ]
  },
  {
   "cell_type": "code",
   "execution_count": 8,
   "id": "ec5cac1f-f9f0-46e1-87f8-1c453c6019f9",
   "metadata": {},
   "outputs": [
    {
     "data": {
      "text/plain": [
       "<pymongo.results.InsertOneResult at 0x7fa270dc9cd0>"
      ]
     },
     "execution_count": 8,
     "metadata": {},
     "output_type": "execute_result"
    }
   ],
   "source": [
    "# insert a new customer\n",
    "new_customer = {'_id':3, 'Customer_First': 'Data', 'Customer_Last': 'Viz', \n",
    "                'Address': '55882 Valley Fields Dr', 'Email': 'dataviz@bootcamp.edu', \n",
    "                '2021_Visits': 75, '2021_Total_Spend': 2017.75, 'Pet_Type': 'cat'}\n",
    "customer_list.insert_one(new_customer)"
   ]
  },
  {
   "cell_type": "code",
   "execution_count": 9,
   "id": "d0e96877-3221-4c61-ba39-cf29b41000a2",
   "metadata": {},
   "outputs": [
    {
     "name": "stdout",
     "output_type": "stream",
     "text": [
      "{'_id': 3, 'Customer_First': 'Data', 'Customer_Last': 'Viz', 'Address': '55882 Valley Fields Dr', 'Email': 'dataviz@bootcamp.edu', '2021_Visits': 75, '2021_Total_Spend': 2017.75, 'Pet_Type': 'cat'}\n"
     ]
    }
   ],
   "source": [
    "# Filter results by name (run this cell)\n",
    "query = {'Customer_First': 'Data'}\n",
    "results = customer_list.find(query)\n",
    "for result in results:\n",
    "    print(result)"
   ]
  },
  {
   "cell_type": "markdown",
   "id": "cb1646b9-c826-40de-98f5-82b26cf06966",
   "metadata": {},
   "source": [
    "11. Create a query that will find all of the customers who have turtles as pets. \n",
    "\n",
    "> Bonus: Try running queries to see what other types of animals customers have."
   ]
  },
  {
   "cell_type": "code",
   "execution_count": 10,
   "id": "95691ec8-2fe9-49c8-9a4b-e9efef179628",
   "metadata": {},
   "outputs": [
    {
     "name": "stdout",
     "output_type": "stream",
     "text": [
      "{'_id': ObjectId('61bba08adfdd4a81f41e300f'), 'Customer_First': 'Loni', 'Customer_Last': 'Hauck', 'Address': '10609 Joanna Manor', 'Email': 'sjohnson@hotmail.com', '2021_Visits': 76, '2021_Total_Spend': 1311.0, 'Pet_Type': 'turtle'}\n",
      "{'_id': ObjectId('61bba08adfdd4a81f41e3017'), 'Customer_First': 'Consuela', 'Customer_Last': 'Kunze', 'Address': '34500 Acevedo Plains', 'Email': 'ycruz@gmail.com', '2021_Visits': 26, '2021_Total_Spend': 448.5, 'Pet_Type': 'turtle'}\n",
      "{'_id': ObjectId('61bba08adfdd4a81f41e301b'), 'Customer_First': 'Dora', 'Customer_Last': 'Walter', 'Address': '827 Juarez Radial Suite 343', 'Email': 'kristine10@gmail.com', '2021_Visits': 50, '2021_Total_Spend': 862.5, 'Pet_Type': 'turtle'}\n",
      "{'_id': ObjectId('61bba08adfdd4a81f41e3034'), 'Customer_First': 'Carlene', 'Customer_Last': 'Gutmann', 'Address': '23904 Moore Coves', 'Email': 'patricialozano@hotmail.com', '2021_Visits': 20, '2021_Total_Spend': 345.0, 'Pet_Type': 'turtle'}\n",
      "{'_id': ObjectId('61bba08adfdd4a81f41e305b'), 'Customer_First': 'Ethen', 'Customer_Last': 'Gislason', 'Address': '90100 Michael Flat', 'Email': 'markpotter@gmail.com', '2021_Visits': 29, '2021_Total_Spend': 500.25, 'Pet_Type': 'turtle'}\n",
      "{'_id': ObjectId('61bba08adfdd4a81f41e305c'), 'Customer_First': 'Jeri', 'Customer_Last': 'Emard', 'Address': '28564 Richard Trail Suite 044', 'Email': 'blewis@hotmail.com', '2021_Visits': 33, '2021_Total_Spend': 569.25, 'Pet_Type': 'turtle'}\n",
      "{'_id': ObjectId('61bba08adfdd4a81f41e305e'), 'Customer_First': 'Maria', 'Customer_Last': 'Wilkinson', 'Address': '5074 Turner Lakes', 'Email': 'warrenannette@yahoo.com', '2021_Visits': 70, '2021_Total_Spend': 1207.5, 'Pet_Type': 'turtle'}\n",
      "{'_id': ObjectId('61bba08adfdd4a81f41e3067'), 'Customer_First': 'Corinna', 'Customer_Last': 'Donnelly', 'Address': '6678 Barnes Plains', 'Email': 'belltina@gmail.com', '2021_Visits': 36, '2021_Total_Spend': 621.0, 'Pet_Type': 'turtle'}\n",
      "{'_id': ObjectId('61bba08adfdd4a81f41e308c'), 'Customer_First': 'Jaelynn', 'Customer_Last': 'Schamberger', 'Address': '56306 Courtney Islands', 'Email': 'bailey91@gmail.com', '2021_Visits': 63, '2021_Total_Spend': 1086.75, 'Pet_Type': 'turtle'}\n",
      "{'_id': ObjectId('61bba08adfdd4a81f41e3093'), 'Customer_First': 'Corrina', 'Customer_Last': 'Schulist', 'Address': '6537 Jeffrey Isle', 'Email': 'hinesmisty@gmail.com', '2021_Visits': 79, '2021_Total_Spend': 1362.75, 'Pet_Type': 'turtle'}\n",
      "{'_id': ObjectId('61bba08adfdd4a81f41e3097'), 'Customer_First': 'Shelva', 'Customer_Last': 'Hegmann', 'Address': '01245 Brown Branch', 'Email': 'teresawhite@hotmail.com', '2021_Visits': 18, '2021_Total_Spend': 310.5, 'Pet_Type': 'turtle'}\n",
      "{'_id': ObjectId('61bba08adfdd4a81f41e30a1'), 'Customer_First': 'Renae', 'Customer_Last': 'Harber', 'Address': '1473 Moore Island Suite 010', 'Email': 'randallward@yahoo.com', '2021_Visits': 4, '2021_Total_Spend': 69.0, 'Pet_Type': 'turtle'}\n",
      "{'_id': ObjectId('61bba08adfdd4a81f41e30b3'), 'Customer_First': 'Jayvon', 'Customer_Last': 'Herman', 'Address': '896 Heather Extensions Apt. 149', 'Email': 'upayne@hotmail.com', '2021_Visits': 71, '2021_Total_Spend': 1224.75, 'Pet_Type': 'turtle'}\n",
      "{'_id': ObjectId('61bba08adfdd4a81f41e30b7'), 'Customer_First': 'Antonina', 'Customer_Last': 'Roberts', 'Address': '075 Gail Springs', 'Email': 'donna34@yahoo.com', '2021_Visits': 54, '2021_Total_Spend': 931.5, 'Pet_Type': 'turtle'}\n",
      "{'_id': ObjectId('61bba08adfdd4a81f41e30c8'), 'Customer_First': 'Karrie', 'Customer_Last': 'Kihn', 'Address': '6902 William Fields Suite 210', 'Email': 'nlee@hotmail.com', '2021_Visits': 94, '2021_Total_Spend': 1621.5, 'Pet_Type': 'turtle'}\n",
      "{'_id': ObjectId('61bba08adfdd4a81f41e30ca'), 'Customer_First': 'Eugenia', 'Customer_Last': 'Adams', 'Address': '9736 Nathaniel Cape Apt. 239', 'Email': 'xkramer@gmail.com', '2021_Visits': 90, '2021_Total_Spend': 1552.5, 'Pet_Type': 'turtle'}\n",
      "{'_id': ObjectId('61bba08adfdd4a81f41e30f2'), 'Customer_First': 'Anders', 'Customer_Last': 'Cronin', 'Address': '0027 Carrillo Fall Suite 216', 'Email': 'tyler75@hotmail.com', '2021_Visits': 89, '2021_Total_Spend': 1535.25, 'Pet_Type': 'turtle'}\n",
      "{'_id': ObjectId('61bba08adfdd4a81f41e3100'), 'Customer_First': 'Helen', 'Customer_Last': 'Hirthe', 'Address': '0280 Stanley Rue', 'Email': 'millercorey@hotmail.com', '2021_Visits': 6, '2021_Total_Spend': 103.5, 'Pet_Type': 'turtle'}\n"
     ]
    }
   ],
   "source": [
    "# Find the number of customers with turtles\n",
    "query = {'Pet_Type': 'turtle'}\n",
    "results = customer_list.find(query)\n",
    "for result in results:\n",
    "    print(result)"
   ]
  },
  {
   "cell_type": "markdown",
   "id": "ec1625bf-32cd-4c48-abfa-9116305a0bbd",
   "metadata": {},
   "source": [
    "12. Use the `delete_many` function to delete the customers that have turtles. Then query the database to confirm that this worked."
   ]
  },
  {
   "cell_type": "code",
   "execution_count": 11,
   "id": "4bcfa105-8b0c-4848-bae2-d4fa7d6cfe8a",
   "metadata": {},
   "outputs": [],
   "source": [
    "# Delete all the customers who have hamsters\n",
    "customer_list.delete_many(query)\n",
    "results = customer_list.find(query)\n",
    "for result in results:\n",
    "    print(result)"
   ]
  },
  {
   "cell_type": "markdown",
   "id": "c88db593-006e-4028-a463-e7c03900a9c5",
   "metadata": {},
   "source": [
    "13. Use `drop_collection` to delete the collection, then use `list_collection_names` to confirm that this worked."
   ]
  },
  {
   "cell_type": "code",
   "execution_count": 12,
   "id": "1efd373c-6ef8-48da-85d9-5878ed12cb76",
   "metadata": {},
   "outputs": [
    {
     "data": {
      "text/plain": [
       "[]"
      ]
     },
     "execution_count": 12,
     "metadata": {},
     "output_type": "execute_result"
    }
   ],
   "source": [
    "# Delete a collection\n",
    "db.drop_collection('customer_list')\n",
    "db.list_collection_names()"
   ]
  },
  {
   "cell_type": "markdown",
   "id": "4236014d-6f9c-4bbf-a3cc-1925f73640cb",
   "metadata": {},
   "source": [
    "14. Use `drop_database` to delete your database. Then use `list_database_names to confirm that this worked`."
   ]
  },
  {
   "cell_type": "code",
   "execution_count": 13,
   "id": "dddd5935-00f6-48e6-91ed-8ef2e7e9a278",
   "metadata": {},
   "outputs": [
    {
     "data": {
      "text/plain": [
       "['admin', 'config', 'local']"
      ]
     },
     "execution_count": 13,
     "metadata": {},
     "output_type": "execute_result"
    }
   ],
   "source": [
    "# Delete the database\n",
    "mongo.drop_database('petsitly_marketing')\n",
    "mongo.list_database_names()"
   ]
  }
 ],
 "metadata": {
  "kernelspec": {
   "display_name": "Python 3",
   "language": "python",
   "name": "python3"
  },
  "language_info": {
   "codemirror_mode": {
    "name": "ipython",
    "version": 3
   },
   "file_extension": ".py",
   "mimetype": "text/x-python",
   "name": "python",
   "nbconvert_exporter": "python",
   "pygments_lexer": "ipython3",
   "version": "3.7.7"
  }
 },
 "nbformat": 4,
 "nbformat_minor": 5
}
