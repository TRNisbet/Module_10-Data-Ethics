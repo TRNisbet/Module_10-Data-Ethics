{
 "cells": [
  {
   "cell_type": "markdown",
   "id": "91e484ca-75ad-4fc5-a2df-5b6f8952fc3d",
   "metadata": {},
   "source": [
    "# Introduction to Mongo"
   ]
  },
  {
   "cell_type": "markdown",
   "id": "bf35709b-36ce-420f-bbf6-978e2413b81d",
   "metadata": {},
   "source": [
    "In this activity, you'll start by importing the contents of a JSON file into a Mongo database collection by using the Mongo CLI.\n",
    "\n",
    "1. Start Mongo by running `mongod` for Windows, or `brew services start mongodb/brew/mongodb-community` for Mac.\n",
    "2. Navigate to the directory that includes your csv.\n",
    "3. Use the following command to import this csv to a Mongo database:\n",
    "```\n",
    "mongoimport --type csv -d petsitly_marketing -c customer_list --headerline --drop customer_list.csv\n",
    "```\n",
    "\n",
    "This command tells Mongo that it needs to:\n",
    "\n",
    "* import a csv file (`--type csv`)\n",
    "* to a database called \"petsitly_marketing\" (`-d petsitly_marketing`) \n",
    "* in a collection called \"customer_list\" (`-c customer_list`)\n",
    "* using the first row of the csv as field names (`--headerline`)\n",
    "* removing the existing \"customer_list\" collection (`--drop`), if it exists, before adding the new documents from the json file.\n",
    "\n",
    "Now that we have imported our data, let's use pymongo to explore it."
   ]
  },
  {
   "cell_type": "code",
   "execution_count": 1,
   "id": "f2f2d6cb-8679-4232-836d-d33c587fa44a",
   "metadata": {},
   "outputs": [],
   "source": [
    "from pymongo import MongoClient"
   ]
  },
  {
   "cell_type": "code",
   "execution_count": 2,
   "id": "686fb4fc-7b44-4801-9fbd-120a12a909f6",
   "metadata": {},
   "outputs": [],
   "source": [
    "# Create an instance of MongoClient\n",
    "mongo = MongoClient(port=27017)"
   ]
  },
  {
   "cell_type": "code",
   "execution_count": 3,
   "id": "b25dd0e2-9c00-4983-9421-c1ba20d54a9d",
   "metadata": {},
   "outputs": [
    {
     "name": "stdout",
     "output_type": "stream",
     "text": [
      "['admin', 'config', 'local', 'petsitly_marketing']\n"
     ]
    }
   ],
   "source": [
    "# confirm that our new database was created\n",
    "print(mongo.list_database_names())"
   ]
  },
  {
   "cell_type": "code",
   "execution_count": 4,
   "id": "c952301c-b6c7-4f13-8950-9857f7f196e2",
   "metadata": {},
   "outputs": [],
   "source": [
    "# assign the database to a variable name\n",
    "db = mongo['petsitly_marketing']"
   ]
  },
  {
   "cell_type": "code",
   "execution_count": 5,
   "id": "8169fbe9-3446-4830-846a-4c1aca23b61a",
   "metadata": {},
   "outputs": [
    {
     "name": "stdout",
     "output_type": "stream",
     "text": [
      "['customer_list']\n"
     ]
    }
   ],
   "source": [
    "# review the collections in our new database\n",
    "print(db.list_collection_names())"
   ]
  },
  {
   "cell_type": "code",
   "execution_count": 6,
   "id": "eb0ed1c1-653e-482f-b68e-95ee3bb27fc1",
   "metadata": {},
   "outputs": [
    {
     "name": "stdout",
     "output_type": "stream",
     "text": [
      "{'_id': ObjectId('61bb743cb0af5b0efc2c8f2d'), 'Customer_First': 'Tyrese', 'Customer_Last': 'Buckridge', 'Address': '2533 Ford Views', 'Email': 'wcastro@yahoo.com', '2021_Visits': 27, '2021_Total_Spend': 465.75, 'Pet_Type': 'bird'}\n"
     ]
    }
   ],
   "source": [
    "# review a document in the customer_list collection\n",
    "print(db.customer_list.find_one())"
   ]
  },
  {
   "cell_type": "code",
   "execution_count": 7,
   "id": "91e2bbd9-5d10-46e9-beed-8f189aee4383",
   "metadata": {},
   "outputs": [],
   "source": [
    "# assign the collection to a variable\n",
    "customer_list = db['customer_list']"
   ]
  },
  {
   "cell_type": "code",
   "execution_count": 8,
   "id": "ec5cac1f-f9f0-46e1-87f8-1c453c6019f9",
   "metadata": {},
   "outputs": [
    {
     "data": {
      "text/plain": [
       "<pymongo.results.InsertOneResult at 0x7fd6fd61a370>"
      ]
     },
     "execution_count": 8,
     "metadata": {},
     "output_type": "execute_result"
    }
   ],
   "source": [
    "# insert a new customer\n",
    "new_customer = {'_id':3, 'Customer_First': 'Data', 'Customer_Last': 'Viz', \n",
    "                'Address': '55882 Valley Fields Dr', 'Email': 'dataviz@bootcamp.edu', \n",
    "                '2021_Visits': 75, '2021_Total_Spend': 2017.75, 'Pet_Type': 'cat'}\n",
    "customer_list.insert_one(new_customer)"
   ]
  },
  {
   "cell_type": "code",
   "execution_count": 9,
   "id": "d0e96877-3221-4c61-ba39-cf29b41000a2",
   "metadata": {},
   "outputs": [
    {
     "name": "stdout",
     "output_type": "stream",
     "text": [
      "{'_id': 3, 'Customer_First': 'Data', 'Customer_Last': 'Viz', 'Address': '55882 Valley Fields Dr', 'Email': 'dataviz@bootcamp.edu', '2021_Visits': 75, '2021_Total_Spend': 2017.75, 'Pet_Type': 'cat'}\n"
     ]
    }
   ],
   "source": [
    "# Filter results by name\n",
    "query = {'Customer_First': 'Data'}\n",
    "results = customer_list.find(query)\n",
    "for result in results:\n",
    "    print(result)"
   ]
  },
  {
   "cell_type": "code",
   "execution_count": 10,
   "id": "95691ec8-2fe9-49c8-9a4b-e9efef179628",
   "metadata": {},
   "outputs": [
    {
     "name": "stdout",
     "output_type": "stream",
     "text": [
      "{'_id': ObjectId('61bb743cb0af5b0efc2c8f70'), 'Customer_First': 'Robbie', 'Customer_Last': 'Schaden', 'Address': '431 Grant Extensions Apt. 754', 'Email': 'millertara@yahoo.com', '2021_Visits': 62, '2021_Total_Spend': 1069.5, 'Pet_Type': 'hamster'}\n",
      "{'_id': ObjectId('61bb743cb0af5b0efc2c8f91'), 'Customer_First': 'Antwan', 'Customer_Last': 'Abernathy', 'Address': '511 Howell Spurs Apt. 193', 'Email': 'jennifer86@gmail.com', '2021_Visits': 12, '2021_Total_Spend': 207.0, 'Pet_Type': 'hamster'}\n",
      "{'_id': ObjectId('61bb743cb0af5b0efc2c8f92'), 'Customer_First': 'Shaniya', 'Customer_Last': 'Kuphal', 'Address': '4078 Smith Garden', 'Email': 'zachary29@yahoo.com', '2021_Visits': 59, '2021_Total_Spend': 1017.75, 'Pet_Type': 'hamster'}\n",
      "{'_id': ObjectId('61bb743cb0af5b0efc2c8f93'), 'Customer_First': 'Leonor', 'Customer_Last': 'Heller', 'Address': '44296 Johnson Tunnel', 'Email': 'shaun33@yahoo.com', '2021_Visits': 74, '2021_Total_Spend': 1276.5, 'Pet_Type': 'hamster'}\n",
      "{'_id': ObjectId('61bb743cb0af5b0efc2c8f94'), 'Customer_First': 'Cherilyn', 'Customer_Last': 'Parisian', 'Address': '980 Lewis Village Apt. 056', 'Email': 'scottdecker@gmail.com', '2021_Visits': 30, '2021_Total_Spend': 517.5, 'Pet_Type': 'hamster'}\n",
      "{'_id': ObjectId('61bb743cb0af5b0efc2c8f95'), 'Customer_First': 'Olar', 'Customer_Last': 'Rice', 'Address': '5162 Romero Springs', 'Email': 'tgilmore@yahoo.com', '2021_Visits': 47, '2021_Total_Spend': 810.75, 'Pet_Type': 'hamster'}\n",
      "{'_id': ObjectId('61bb743cb0af5b0efc2c8fb3'), 'Customer_First': 'Izabelle', 'Customer_Last': 'Rodriguez', 'Address': '25823 Moreno Bridge', 'Email': 'rebecca31@hotmail.com', '2021_Visits': 63, '2021_Total_Spend': 1086.75, 'Pet_Type': 'hamster'}\n",
      "{'_id': ObjectId('61bb743cb0af5b0efc2c900f'), 'Customer_First': 'Kennedy', 'Customer_Last': 'Doyle', 'Address': '9829 Lisa Manors Suite 209', 'Email': 'ohull@yahoo.com', '2021_Visits': 30, '2021_Total_Spend': 517.5, 'Pet_Type': 'hamster'}\n"
     ]
    }
   ],
   "source": [
    "# Find the number of customers with hamsters\n",
    "query = {'Pet_Type': 'hamster'}\n",
    "results = customer_list.find(query)\n",
    "for result in results:\n",
    "    print(result)"
   ]
  },
  {
   "cell_type": "code",
   "execution_count": 11,
   "id": "4bcfa105-8b0c-4848-bae2-d4fa7d6cfe8a",
   "metadata": {},
   "outputs": [],
   "source": [
    "# Delete all the customers who have hamsters\n",
    "customer_list.delete_many(query)\n",
    "results = customer_list.find(query)\n",
    "for result in results:\n",
    "    print(result)"
   ]
  },
  {
   "cell_type": "code",
   "execution_count": 12,
   "id": "1efd373c-6ef8-48da-85d9-5878ed12cb76",
   "metadata": {},
   "outputs": [
    {
     "data": {
      "text/plain": [
       "[]"
      ]
     },
     "execution_count": 12,
     "metadata": {},
     "output_type": "execute_result"
    }
   ],
   "source": [
    "# Delete a collection\n",
    "db.drop_collection('customer_list')\n",
    "db.list_collection_names()"
   ]
  },
  {
   "cell_type": "code",
   "execution_count": 13,
   "id": "dddd5935-00f6-48e6-91ed-8ef2e7e9a278",
   "metadata": {},
   "outputs": [
    {
     "data": {
      "text/plain": [
       "['admin', 'config', 'local']"
      ]
     },
     "execution_count": 13,
     "metadata": {},
     "output_type": "execute_result"
    }
   ],
   "source": [
    "# Delete the database\n",
    "mongo.drop_database('petsitly_marketing')\n",
    "mongo.list_database_names()"
   ]
  },
  {
   "cell_type": "code",
   "execution_count": null,
   "id": "1cbd505e-91db-4c72-8c34-0097afe24b27",
   "metadata": {},
   "outputs": [],
   "source": []
  }
 ],
 "metadata": {
  "kernelspec": {
   "display_name": "Python 3",
   "language": "python",
   "name": "python3"
  },
  "language_info": {
   "codemirror_mode": {
    "name": "ipython",
    "version": 3
   },
   "file_extension": ".py",
   "mimetype": "text/x-python",
   "name": "python",
   "nbconvert_exporter": "python",
   "pygments_lexer": "ipython3",
   "version": "3.7.7"
  }
 },
 "nbformat": 4,
 "nbformat_minor": 5
}
